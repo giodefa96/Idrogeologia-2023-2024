{
 "cells": [
  {
   "cell_type": "code",
   "execution_count": 7,
   "metadata": {},
   "outputs": [],
   "source": [
    "import numpy as np\n",
    "import math\n",
    "\n",
    "import matplotlib.pyplot as plt"
   ]
  },
  {
   "cell_type": "markdown",
   "metadata": {},
   "source": [
    "# Ex 1"
   ]
  },
  {
   "cell_type": "code",
   "execution_count": 8,
   "metadata": {},
   "outputs": [
    {
     "name": "stdout",
     "output_type": "stream",
     "text": [
      "K = 0.002 cm/s\n",
      "K = 1.7 m/giorno\n",
      "Porosità efficace = 26 %\n"
     ]
    }
   ],
   "source": [
    "# Dati\n",
    "K = 2e-3 # cm/s\n",
    "print('K =', K, 'cm/s')\n",
    "# converto in m/giorno\n",
    "K = round(2e-3 * 0.01 * 60 * 60 * 24, 1)\n",
    "print('K =', K, 'm/giorno')\n",
    "\n",
    "# Porosità efficace\n",
    "P_e=26 # %\n",
    "print('Porosità efficace =', P_e, '%')\n",
    "\n",
    "# Spessore acquifero\n",
    "L = 30 # m\n",
    "\n",
    "# Distanza tra i due pozzi\n",
    "d = 180 # m\n",
    "\n",
    "# Livello piezometrico pozzo 1\n",
    "h1 = 150 # m\n",
    "# Soggiacenza pozzo 1\n",
    "z1 = 10 # m\n",
    "\n",
    "# Livello piezometrico pozzo 2\n",
    "h2 = 150 # m\n",
    "# Soggiacenza pozzo 2\n",
    "z2 = 13 # m\n"
   ]
  },
  {
   "cell_type": "markdown",
   "metadata": {},
   "source": [
    " - Calcolare la portata in m^3/giorno\n",
    " - Calcoalre la velocità darcina e reale\n",
    " - La quota piezometrica a metà tra i due pozzi"
   ]
  },
  {
   "cell_type": "markdown",
   "metadata": {},
   "source": [
    "We had that saturated thickness is the portion of the aquifer that is filled with water, and we know that moving in the x direction the head is changing!\n",
    "\n",
    "So we need the mean saturated thickness, that is the average of the saturated thickness between the two wells."
   ]
  },
  {
   "cell_type": "code",
   "execution_count": 9,
   "metadata": {},
   "outputs": [
    {
     "name": "stdout",
     "output_type": "stream",
     "text": [
      "h = 19 m\n"
     ]
    }
   ],
   "source": [
    "# average saturated thickness\n",
    "hl_1 = L - z1\n",
    "hl_2 = L - z2\n",
    "h = int(((hl_1)+(hl_2)) / 2) +1\n",
    "print('h =', h, 'm')"
   ]
  },
  {
   "cell_type": "markdown",
   "metadata": {},
   "source": [
    "The gradients is the difference between the head in the two wells divided by the distance between the two wells."
   ]
  },
  {
   "cell_type": "code",
   "execution_count": 10,
   "metadata": {},
   "outputs": [
    {
     "name": "stdout",
     "output_type": "stream",
     "text": [
      "i = 0.017\n"
     ]
    }
   ],
   "source": [
    "# gradiente idraulico\n",
    "i = round(((h1-z1)-(h2-z2))/d, 3)\n",
    "print('i =', i)"
   ]
  },
  {
   "cell_type": "code",
   "execution_count": 11,
   "metadata": {},
   "outputs": [
    {
     "name": "stdout",
     "output_type": "stream",
     "text": [
      "K = 1.7 m/giorno\n",
      "h = 19 m\n",
      "i = 0.017\n"
     ]
    }
   ],
   "source": [
    "print('K =', K, 'm/giorno')\n",
    "print('h =', h, 'm')\n",
    "print('i =', i)\n"
   ]
  },
  {
   "cell_type": "code",
   "execution_count": 13,
   "metadata": {},
   "outputs": [
    {
     "name": "stdout",
     "output_type": "stream",
     "text": [
      "q = 0.55 m^2/giorno\n"
     ]
    }
   ],
   "source": [
    "# Calcolo della portata tramite eqauzione di Darcy\n",
    "q_darcy = round(K * i * h, 2)\n",
    "print('q =', q_darcy, 'm^2/giorno')"
   ]
  },
  {
   "cell_type": "markdown",
   "metadata": {},
   "source": [
    "Now is time to calculate the darcian velocity, that is the velocity of the water in the aquifer.\n",
    "\n",
    "That is:\n",
    " - q = k * i"
   ]
  },
  {
   "cell_type": "code",
   "execution_count": 14,
   "metadata": {},
   "outputs": [
    {
     "name": "stdout",
     "output_type": "stream",
     "text": [
      "K = 1.7 m/giorno\n",
      "i = 0.017\n"
     ]
    }
   ],
   "source": [
    "print('K =', K, 'm/giorno')\n",
    "print('i =', i)\n"
   ]
  },
  {
   "cell_type": "code",
   "execution_count": 15,
   "metadata": {},
   "outputs": [
    {
     "name": "stdout",
     "output_type": "stream",
     "text": [
      "q = 0.029 m/giorno\n"
     ]
    }
   ],
   "source": [
    "# darcy velocity\n",
    "q = round(K * i, 3)\n",
    "print('q =', q, 'm/giorno')"
   ]
  },
  {
   "cell_type": "markdown",
   "metadata": {},
   "source": [
    "Now is time to calculate the piezometric head in the middle of the two wells.\n",
    " - h_x = sqrt(h_1^2 - (h_1^2 - h_2^2)x/L)"
   ]
  },
  {
   "cell_type": "code",
   "execution_count": 16,
   "metadata": {},
   "outputs": [
    {
     "name": "stdout",
     "output_type": "stream",
     "text": [
      "d/2 = 90 m\n",
      "h_x = 19 m\n"
     ]
    }
   ],
   "source": [
    "# median x\n",
    "d_2 = int(d/2)\n",
    "print('d/2 =', d_2, 'm') \n",
    "\n",
    "# piezometric head at the middle of the two wells\n",
    "h_x = int(math.sqrt(math.pow(hl_1,2) - (( (math.pow(hl_1,2) - math.pow(hl_2,2)) * d_2) / d ) )) + 1\n",
    "print('h_x =', h_x, 'm')"
   ]
  },
  {
   "cell_type": "markdown",
   "metadata": {},
   "source": [
    "Now it's time to calculate the dupuit velocity, that is the velocity of the water in the aquifer. unitary velocity is the velocity of the water in the aquifer."
   ]
  },
  {
   "cell_type": "code",
   "execution_count": 47,
   "metadata": {},
   "outputs": [
    {
     "name": "stdout",
     "output_type": "stream",
     "text": [
      "q = 0.52 m^2/giorno\n"
     ]
    }
   ],
   "source": [
    "# euqation of Dupuit\n",
    "q_dupuit = round(K/2 * ( (math.pow(hl_1,2) - math.pow(hl_2,2)) / d ), 2)\n",
    "print('q =', q, 'm^2/giorno')"
   ]
  },
  {
   "cell_type": "code",
   "execution_count": 89,
   "metadata": {},
   "outputs": [
    {
     "name": "stdout",
     "output_type": "stream",
     "text": [
      "Scarto = 5.45 %\n"
     ]
    }
   ],
   "source": [
    "# Scarto percentuale tra le due portate\n",
    "scarto = round((q_darcy - q_dupuit)/q_darcy * 100, 2)\n",
    "print('Scarto =', scarto, '%')"
   ]
  },
  {
   "cell_type": "markdown",
   "metadata": {},
   "source": [
    "plot the difference between the darcian and dupuit velocity"
   ]
  },
  {
   "cell_type": "code",
   "execution_count": 62,
   "metadata": {},
   "outputs": [
    {
     "data": {
      "image/png": "[encoded data removed]",
      "text/plain": [
       "<Figure size 640x480 with 1 Axes>"
      ]
     },
     "metadata": {},
     "output_type": "display_data"
    }
   ],
   "source": [
    "# plot the results of the two methods with barplot\n",
    "x = np.arange(2)\n",
    "fig, ax = plt.subplots()\n",
    "ax.bar(x, [q_darcy, q_dupuit])\n",
    "ax.set_xticks(x)\n",
    "ax.set_xticklabels(['Darcy', 'Dupuit'])\n",
    "ax.set_ylabel('Portata [m^2/giorno]')\n",
    "ax.set_title('Confronto tra i due metodi')\n",
    "\n",
    "# add the value of the two methods at the top of the bar at the same height\n",
    "max_value = max(q_darcy, q_dupuit)\n",
    "ax.text(0, max_value + 0.1, str(q_darcy) + \" m^2/giorno\", color='blue', fontweight='bold')\n",
    "ax.text(1, max_value + 0.1, str(q_dupuit)+ \" m^2/giorno\", color='blue', fontweight='bold')\n",
    "\n",
    "plt.show()\n",
    "\n",
    "\n"
   ]
  },
  {
   "cell_type": "markdown",
   "metadata": {},
   "source": [
    "# Ex 2"
   ]
  },
  {
   "cell_type": "code",
   "execution_count": 25,
   "metadata": {},
   "outputs": [
    {
     "name": "stdout",
     "output_type": "stream",
     "text": [
      "K = 1.2 m/giorno\n"
     ]
    }
   ],
   "source": [
    "K = 1.4e-3 # m/s\n",
    "# convert in m/giorno\n",
    "K = round(1.4e-3 * 60 * 60 * 24 * 0.01, 1)\n",
    "print('K =', K, 'm/giorno')\n",
    "\n",
    "# Spessore acquifero\n",
    "b = 30 # m\n",
    "# larghezza acquifero\n",
    "L = 8000 # m\n",
    "\n",
    "# livello piezometrico pozzi s.l.m.\n",
    "h1_slm, h2_slm = 100, 100 # m\n",
    "\n",
    "# Distanza tra i due pozzi\n",
    "d = 1500 # m\n",
    "\n",
    "# livello misura pozzo 1\n",
    "h1 = 3 # m\n",
    "\n",
    "# livello misura pozzo 2\n",
    "h2 = 11 # m\n"
   ]
  },
  {
   "cell_type": "markdown",
   "metadata": {},
   "source": [
    "Calcolare:\n",
    " - La portata in m^3/giorno\n",
    " - Se si potesse perforare un pozzo profondo 25 m a metà tra i due pozzi, che livello di acqua si avrebbe?"
   ]
  },
  {
   "cell_type": "code",
   "execution_count": 26,
   "metadata": {},
   "outputs": [
    {
     "name": "stdout",
     "output_type": "stream",
     "text": [
      "i = 0.005\n"
     ]
    }
   ],
   "source": [
    "i = round(((h1_slm - h1) - (h2_slm - h2)) / d, 3)\n",
    "print('i =', i)"
   ]
  },
  {
   "cell_type": "code",
   "execution_count": 27,
   "metadata": {},
   "outputs": [
    {
     "name": "stdout",
     "output_type": "stream",
     "text": [
      "Q = 1440.0 m^3/giorno\n"
     ]
    }
   ],
   "source": [
    "# Sicuramente possiamo calcolara la portata totale\n",
    "Q = K * b * L * i\n",
    "print('Q =', Q, 'm^3/giorno')\n"
   ]
  },
  {
   "cell_type": "code",
   "execution_count": 29,
   "metadata": {},
   "outputs": [
    {
     "name": "stdout",
     "output_type": "stream",
     "text": [
      "q = 0.18 m^2/giorno\n"
     ]
    }
   ],
   "source": [
    "# portata unitaria\n",
    "q = K * b * i\n",
    "print('q =', q, 'm^2/giorno')"
   ]
  },
  {
   "cell_type": "code",
   "execution_count": 71,
   "metadata": {},
   "outputs": [
    {
     "name": "stdout",
     "output_type": "stream",
     "text": [
      "q_s = 0.006 m/giorno\n"
     ]
    }
   ],
   "source": [
    "# portata specifica\n",
    "q_s = K * i\n",
    "print('q_s =', q_s, 'm/giorno')"
   ]
  },
  {
   "cell_type": "markdown",
   "metadata": {},
   "source": [
    "Se si perforasse un pozzo profondo 25 m a metà tra i due pozzi, che livello di acqua si avrebbe?"
   ]
  },
  {
   "cell_type": "code",
   "execution_count": 73,
   "metadata": {},
   "outputs": [
    {
     "name": "stdout",
     "output_type": "stream",
     "text": [
      "d/2 = 750 m\n"
     ]
    }
   ],
   "source": [
    "d_2 = int(d/2)\n",
    "print('d/2 =', d_2, 'm')"
   ]
  },
  {
   "cell_type": "code",
   "execution_count": 78,
   "metadata": {},
   "outputs": [
    {
     "name": "stdout",
     "output_type": "stream",
     "text": [
      "h_x = 6.75 m\n"
     ]
    }
   ],
   "source": [
    "h_x = h1_slm - (h1_slm - h1 - ( i * d_2 ))\n",
    "print('h_x =', h_x, 'm')"
   ]
  },
  {
   "cell_type": "code",
   "execution_count": 86,
   "metadata": {},
   "outputs": [
    {
     "data": {
      "text/plain": [
       "Text(0.5, 1.0, 'Livello piezometrico nei 3 pozzi')"
      ]
     },
     "execution_count": 86,
     "metadata": {},
     "output_type": "execute_result"
    },
    {
     "data": {
      "image/png": "[encoded data removed]",
      "text/plain": [
       "<Figure size 640x480 with 1 Axes>"
      ]
     },
     "metadata": {},
     "output_type": "display_data"
    }
   ],
   "source": [
    "# plot the 3 points\n",
    "x = np.arange(3)\n",
    "fig, ax = plt.subplots()\n",
    "ax.bar(x, [h1, h_x, h2])\n",
    "ax.set_xticks(x)\n",
    "ax.set_xticklabels(['h1', 'hx', 'h2'])\n",
    "ax.set_ylabel('Livello piezometrico [m]')\n",
    "ax.set_title('Livello piezometrico nei 3 pozzi') \n"
   ]
  }
 ],
 "metadata": {
  "kernelspec": {
   "display_name": "Python 3",
   "language": "python",
   "name": "python3"
  },
  "language_info": {
   "codemirror_mode": {
    "name": "ipython",
    "version": 3
   },
   "file_extension": ".py",
   "mimetype": "text/x-python",
   "name": "python",
   "nbconvert_exporter": "python",
   "pygments_lexer": "ipython3",
   "version": "3.10.13"
  }
 },
 "nbformat": 4,
 "nbformat_minor": 2
}
